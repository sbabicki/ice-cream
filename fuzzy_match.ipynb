{
 "cells": [
  {
   "cell_type": "code",
   "execution_count": 1,
   "metadata": {},
   "outputs": [],
   "source": [
    "from fuzzywuzzy import fuzz\n",
    "import numpy as np\n",
    "import pandas as pd\n",
    "import os"
   ]
  },
  {
   "cell_type": "code",
   "execution_count": 2,
   "metadata": {},
   "outputs": [
    {
     "name": "stdout",
     "output_type": "stream",
     "text": [
      "filtered_adds has 2929 unique entries\n",
      "filtered_ents has 634 unique entries\n",
      "filtered_peos has 3111 unique entries\n",
      "unfiltered_adds has 350767 unique entries\n",
      "unfiltered_ents has 770800 unique entries\n",
      "unfiltered_peos has 528468 unique entries\n"
     ]
    }
   ],
   "source": [
    "pickle_dict = {}\n",
    "unique_index = {}\n",
    "filtered = [\"filtered_adds\", \"filtered_ents\", \"filtered_peos\"]\n",
    "unfiltered = [\"unfiltered_adds\", \"unfiltered_ents\", \"unfiltered_peos\"]\n",
    "\n",
    "for d in filtered + unfiltered:\n",
    "    pickle_dict[d] = pd.read_pickle(os.path.join(\"data\", \"processed\", d))\n",
    "    unique_index[d] = np.array(pickle_dict[d].index.unique())\n",
    "    print(f\"{d} has {unique_index[d].size} unique entries\")"
   ]
  },
  {
   "cell_type": "code",
   "execution_count": 3,
   "metadata": {},
   "outputs": [],
   "source": [
    "def fuzzy_match(search, search_crit, base_fuzz=fuzz.ratio):\n",
    "    scores = np.vectorize(lambda x : base_fuzz(x, search))(unique_index[search_crit])\n",
    "    ind = np.argpartition(scores, -10)[-10:]\n",
    "    ind = ind[np.argsort(-scores[ind])]\n",
    "    return (scores[ind], unique_index[search_crit][ind])"
   ]
  },
  {
   "cell_type": "code",
   "execution_count": 4,
   "metadata": {},
   "outputs": [
    {
     "data": {
      "text/plain": [
       "array(['Barbaro Levi', 'Barbara Lenz', 'Barbara Nelson', 'Barbara Minns',\n",
       "       'Barbara Jean Nelson', 'Barbara G. Abela', 'Barbara Siu',\n",
       "       'Barr - David', 'Barbara Shiu', 'Brand - Kevin'], dtype=object)"
      ]
     },
     "execution_count": 4,
     "metadata": {},
     "output_type": "execute_result"
    }
   ],
   "source": [
    "fuzzy_match(\"Barbara L Devlin\", \"unfiltered_peos\")"
   ]
  },
  {
   "cell_type": "code",
   "execution_count": 5,
   "metadata": {},
   "outputs": [],
   "source": [
    "def fuzzy_search(search, search_crit, base_fuzz=fuzz.ratio):\n",
    "    scores, matches = fuzzy_match(search, search_crit, base_fuzz=base_fuzz)\n",
    "    pickle_dict[search_crit].loc[matches]"
   ]
  },
  {
   "cell_type": "code",
   "execution_count": 6,
   "metadata": {},
   "outputs": [
    {
     "data": {
      "text/html": [
       "<div>\n",
       "<style scoped>\n",
       "    .dataframe tbody tr th:only-of-type {\n",
       "        vertical-align: middle;\n",
       "    }\n",
       "\n",
       "    .dataframe tbody tr th {\n",
       "        vertical-align: top;\n",
       "    }\n",
       "\n",
       "    .dataframe thead th {\n",
       "        text-align: right;\n",
       "    }\n",
       "</style>\n",
       "<table border=\"1\" class=\"dataframe\">\n",
       "  <thead>\n",
       "    <tr style=\"text-align: right;\">\n",
       "      <th></th>\n",
       "      <th>sourceID</th>\n",
       "      <th>country_codes</th>\n",
       "    </tr>\n",
       "    <tr>\n",
       "      <th>name</th>\n",
       "      <th></th>\n",
       "      <th></th>\n",
       "    </tr>\n",
       "  </thead>\n",
       "  <tbody>\n",
       "    <tr>\n",
       "      <th>Barbaro Levi</th>\n",
       "      <td>Panama Papers</td>\n",
       "      <td>MCO</td>\n",
       "    </tr>\n",
       "    <tr>\n",
       "      <th>Barbara Lenz</th>\n",
       "      <td>Offshore Leaks</td>\n",
       "      <td>ZAF</td>\n",
       "    </tr>\n",
       "    <tr>\n",
       "      <th>Barbara Nelson</th>\n",
       "      <td>Offshore Leaks</td>\n",
       "      <td>USA</td>\n",
       "    </tr>\n",
       "    <tr>\n",
       "      <th>Barbara Minns</th>\n",
       "      <td>Panama Papers</td>\n",
       "      <td>JEY</td>\n",
       "    </tr>\n",
       "    <tr>\n",
       "      <th>Barbara Jean Nelson</th>\n",
       "      <td>Offshore Leaks</td>\n",
       "      <td>USA</td>\n",
       "    </tr>\n",
       "    <tr>\n",
       "      <th>Barbara G. Abela</th>\n",
       "      <td>Offshore Leaks</td>\n",
       "      <td>XXX</td>\n",
       "    </tr>\n",
       "    <tr>\n",
       "      <th>Barbara Siu</th>\n",
       "      <td>Offshore Leaks</td>\n",
       "      <td>TWN</td>\n",
       "    </tr>\n",
       "    <tr>\n",
       "      <th>Barr - David</th>\n",
       "      <td>Paradise Papers - Appleby</td>\n",
       "      <td>USA</td>\n",
       "    </tr>\n",
       "    <tr>\n",
       "      <th>Barbara Shiu</th>\n",
       "      <td>Offshore Leaks</td>\n",
       "      <td>XXX</td>\n",
       "    </tr>\n",
       "    <tr>\n",
       "      <th>Brand - Kevin</th>\n",
       "      <td>Paradise Papers - Appleby</td>\n",
       "      <td>USA</td>\n",
       "    </tr>\n",
       "  </tbody>\n",
       "</table>\n",
       "</div>"
      ],
      "text/plain": [
       "                                      sourceID country_codes\n",
       "name                                                        \n",
       "Barbaro Levi                     Panama Papers           MCO\n",
       "Barbara Lenz                    Offshore Leaks           ZAF\n",
       "Barbara Nelson                  Offshore Leaks           USA\n",
       "Barbara Minns                    Panama Papers           JEY\n",
       "Barbara Jean Nelson             Offshore Leaks           USA\n",
       "Barbara G. Abela                Offshore Leaks           XXX\n",
       "Barbara Siu                     Offshore Leaks           TWN\n",
       "Barr - David         Paradise Papers - Appleby           USA\n",
       "Barbara Shiu                    Offshore Leaks           XXX\n",
       "Brand - Kevin        Paradise Papers - Appleby           USA"
      ]
     },
     "execution_count": 6,
     "metadata": {},
     "output_type": "execute_result"
    }
   ],
   "source": [
    "# unfiltered dataframes have entries from all over the world\n",
    "fuzzy_search(\"Barbara L Devlin\", \"unfiltered_peos\")"
   ]
  },
  {
   "cell_type": "code",
   "execution_count": 7,
   "metadata": {},
   "outputs": [
    {
     "data": {
      "text/html": [
       "<div>\n",
       "<style scoped>\n",
       "    .dataframe tbody tr th:only-of-type {\n",
       "        vertical-align: middle;\n",
       "    }\n",
       "\n",
       "    .dataframe tbody tr th {\n",
       "        vertical-align: top;\n",
       "    }\n",
       "\n",
       "    .dataframe thead th {\n",
       "        text-align: right;\n",
       "    }\n",
       "</style>\n",
       "<table border=\"1\" class=\"dataframe\">\n",
       "  <thead>\n",
       "    <tr style=\"text-align: right;\">\n",
       "      <th></th>\n",
       "      <th>sourceID</th>\n",
       "    </tr>\n",
       "    <tr>\n",
       "      <th>name</th>\n",
       "      <th></th>\n",
       "    </tr>\n",
       "  </thead>\n",
       "  <tbody>\n",
       "    <tr>\n",
       "      <th>Barry Revzen</th>\n",
       "      <td>Panama Papers</td>\n",
       "    </tr>\n",
       "    <tr>\n",
       "      <th>Barry Revzen</th>\n",
       "      <td>Panama Papers</td>\n",
       "    </tr>\n",
       "    <tr>\n",
       "      <th>Barnard - Scott Rae</th>\n",
       "      <td>Paradise Papers - Appleby</td>\n",
       "    </tr>\n",
       "    <tr>\n",
       "      <th>Burgher - Kevin</th>\n",
       "      <td>Paradise Papers - Appleby</td>\n",
       "    </tr>\n",
       "    <tr>\n",
       "      <th>Barbosa - Carlos</th>\n",
       "      <td>Paradise Papers - Appleby</td>\n",
       "    </tr>\n",
       "    <tr>\n",
       "      <th>Terry Lem</th>\n",
       "      <td>Offshore Leaks</td>\n",
       "    </tr>\n",
       "    <tr>\n",
       "      <th>WU Bao Lu</th>\n",
       "      <td>Offshore Leaks</td>\n",
       "    </tr>\n",
       "    <tr>\n",
       "      <th>Bricel - Mark Leon</th>\n",
       "      <td>Paradise Papers - Appleby</td>\n",
       "    </tr>\n",
       "    <tr>\n",
       "      <th>Gray - Kevin D</th>\n",
       "      <td>Paradise Papers - Appleby</td>\n",
       "    </tr>\n",
       "    <tr>\n",
       "      <th>Harry L. Stemp</th>\n",
       "      <td>Offshore Leaks</td>\n",
       "    </tr>\n",
       "    <tr>\n",
       "      <th>Baron - Godric</th>\n",
       "      <td>Paradise Papers - Appleby</td>\n",
       "    </tr>\n",
       "  </tbody>\n",
       "</table>\n",
       "</div>"
      ],
      "text/plain": [
       "                                      sourceID\n",
       "name                                          \n",
       "Barry Revzen                     Panama Papers\n",
       "Barry Revzen                     Panama Papers\n",
       "Barnard - Scott Rae  Paradise Papers - Appleby\n",
       "Burgher - Kevin      Paradise Papers - Appleby\n",
       "Barbosa - Carlos     Paradise Papers - Appleby\n",
       "Terry Lem                       Offshore Leaks\n",
       "WU Bao Lu                       Offshore Leaks\n",
       "Bricel - Mark Leon   Paradise Papers - Appleby\n",
       "Gray - Kevin D       Paradise Papers - Appleby\n",
       "Harry L. Stemp                  Offshore Leaks\n",
       "Baron - Godric       Paradise Papers - Appleby"
      ]
     },
     "execution_count": 7,
     "metadata": {},
     "output_type": "execute_result"
    }
   ],
   "source": [
    "# filtered dataframes only have verified Canadian entries\n",
    "fuzzy_search(\"Barbaro Levi\", search_crit=\"filtered_peos\")"
   ]
  },
  {
   "cell_type": "code",
   "execution_count": 8,
   "metadata": {},
   "outputs": [
    {
     "data": {
      "text/html": [
       "<div>\n",
       "<style scoped>\n",
       "    .dataframe tbody tr th:only-of-type {\n",
       "        vertical-align: middle;\n",
       "    }\n",
       "\n",
       "    .dataframe tbody tr th {\n",
       "        vertical-align: top;\n",
       "    }\n",
       "\n",
       "    .dataframe thead th {\n",
       "        text-align: right;\n",
       "    }\n",
       "</style>\n",
       "<table border=\"1\" class=\"dataframe\">\n",
       "  <thead>\n",
       "    <tr style=\"text-align: right;\">\n",
       "      <th></th>\n",
       "      <th>sourceID</th>\n",
       "    </tr>\n",
       "    <tr>\n",
       "      <th>name</th>\n",
       "      <th></th>\n",
       "    </tr>\n",
       "  </thead>\n",
       "  <tbody>\n",
       "    <tr>\n",
       "      <th>Eight International Holdings Ltd.</th>\n",
       "      <td>Panama Papers</td>\n",
       "    </tr>\n",
       "    <tr>\n",
       "      <th>Maya Investments Holdings Trading Ltd.</th>\n",
       "      <td>Panama Papers</td>\n",
       "    </tr>\n",
       "    <tr>\n",
       "      <th>Seven International Holdings Ltd.</th>\n",
       "      <td>Panama Papers</td>\n",
       "    </tr>\n",
       "    <tr>\n",
       "      <th>Brookfield Private Equity Group Holdings LP</th>\n",
       "      <td>Paradise Papers - Appleby</td>\n",
       "    </tr>\n",
       "    <tr>\n",
       "      <th>Blue Seymour Holdings Limited</th>\n",
       "      <td>Panama Papers</td>\n",
       "    </tr>\n",
       "    <tr>\n",
       "      <th>Amisk Holdings Ltd.</th>\n",
       "      <td>Panama Papers</td>\n",
       "    </tr>\n",
       "    <tr>\n",
       "      <th>Torco Investment Holdings Ltd.</th>\n",
       "      <td>Panama Papers</td>\n",
       "    </tr>\n",
       "    <tr>\n",
       "      <th>Hazen Holdings Ltd.</th>\n",
       "      <td>Panama Papers</td>\n",
       "    </tr>\n",
       "    <tr>\n",
       "      <th>Munich Holdings Agency Account</th>\n",
       "      <td>Paradise Papers - Appleby</td>\n",
       "    </tr>\n",
       "    <tr>\n",
       "      <th>Henri Investments Holdings Ltd.</th>\n",
       "      <td>Panama Papers</td>\n",
       "    </tr>\n",
       "  </tbody>\n",
       "</table>\n",
       "</div>"
      ],
      "text/plain": [
       "                                                              sourceID\n",
       "name                                                                  \n",
       "Eight International Holdings Ltd.                        Panama Papers\n",
       "Maya Investments Holdings Trading Ltd.                   Panama Papers\n",
       "Seven International Holdings Ltd.                        Panama Papers\n",
       "Brookfield Private Equity Group Holdings LP  Paradise Papers - Appleby\n",
       "Blue Seymour Holdings Limited                            Panama Papers\n",
       "Amisk Holdings Ltd.                                      Panama Papers\n",
       "Torco Investment Holdings Ltd.                           Panama Papers\n",
       "Hazen Holdings Ltd.                                      Panama Papers\n",
       "Munich Holdings Agency Account               Paradise Papers - Appleby\n",
       "Henri Investments Holdings Ltd.                          Panama Papers"
      ]
     },
     "execution_count": 8,
     "metadata": {},
     "output_type": "execute_result"
    }
   ],
   "source": [
    "fuzzy_search(\"holdings\", search_crit=\"filtered_ents\", base_fuzz=fuzz.partial_ratio)"
   ]
  },
  {
   "cell_type": "code",
   "execution_count": null,
   "metadata": {},
   "outputs": [],
   "source": []
  }
 ],
 "metadata": {
  "kernelspec": {
   "display_name": "Python [conda env:513]",
   "language": "python",
   "name": "conda-env-513-py"
  },
  "language_info": {
   "codemirror_mode": {
    "name": "ipython",
    "version": 3
   },
   "file_extension": ".py",
   "mimetype": "text/x-python",
   "name": "python",
   "nbconvert_exporter": "python",
   "pygments_lexer": "ipython3",
   "version": "3.7.8"
  }
 },
 "nbformat": 4,
 "nbformat_minor": 4
}
