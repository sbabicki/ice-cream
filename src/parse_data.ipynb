{
 "cells": [
  {
   "cell_type": "code",
   "execution_count": null,
   "metadata": {},
   "outputs": [],
   "source": [
    "import pandas as pd\n",
    "import numpy as np\n",
    "import requests\n",
    "import pandas_read_xml as pdx\n",
    "import zipfile\n",
    "import glob"
   ]
  },
  {
   "cell_type": "code",
   "execution_count": null,
   "metadata": {},
   "outputs": [],
   "source": [
    "# read from csv\n",
    "pd.read_csv(\"data/processed/business-licences-hackathon.csv\", delimiter=\";\")"
   ]
  },
  {
   "cell_type": "code",
   "execution_count": null,
   "metadata": {},
   "outputs": [],
   "source": [
    "# query result\n",
    "query = \"test\"\n",
    "response = requests.get(\"https://opendata.vancouver.ca/api/records/1.0/search/?dataset=business-licences&q=\"+query)\n",
    "json = response.json()\n",
    "company_records = json[\"records\"]\n",
    "company_list = [company[\"fields\"] for company in company_records]\n",
    "query_result = pd.DataFrame(company_list)"
   ]
  },
  {
   "cell_type": "code",
   "execution_count": null,
   "metadata": {},
   "outputs": [],
   "source": [
    "query_result"
   ]
  },
  {
   "cell_type": "code",
   "execution_count": null,
   "metadata": {},
   "outputs": [],
   "source": [
    "# import data from federal\n",
    "url =\"http://www.ic.gc.ca/app/scr/cc/CorporationsCanada/download/OPEN_DATA_SPLIT.zip\"\n",
    "save_folder = \"raw\"\n",
    "save_path = save_folder+\"/federal_data.zip\"\n",
    "\n",
    "r = requests.get(url, stream=True)\n",
    "with open(save_path, \"wb\") as fd:\n",
    "    for chunk in r.iter_content(chunk_size=128):\n",
    "        fd.write(chunk)"
   ]
  },
  {
   "cell_type": "code",
   "execution_count": null,
   "metadata": {},
   "outputs": [],
   "source": [
    "# unzip folder\n",
    "zip = zipfile.ZipFile(save_path)\n",
    "zip.extractall(save_folder)"
   ]
  },
  {
   "cell_type": "code",
   "execution_count": null,
   "metadata": {},
   "outputs": [],
   "source": [
    "xml_files = []\n",
    "for name in glob.glob(save_folder+\"/OPEN_DATA_*.xml\"):\n",
    "    xml_files.append(pdx.read_xml(name,  [\"cc:corpcan\", \"corporations\"], encoding=\"utf8\"))\n",
    "print(len(xml_files))"
   ]
  }
 ],
 "metadata": {
  "kernelspec": {
   "display_name": "Python 3",
   "language": "python",
   "name": "python3"
  },
  "language_info": {
   "codemirror_mode": {
    "name": "ipython",
    "version": 3
   },
   "file_extension": ".py",
   "mimetype": "text/x-python",
   "name": "python",
   "nbconvert_exporter": "python",
   "pygments_lexer": "ipython3",
   "version": "3.8.3"
  }
 },
 "nbformat": 4,
 "nbformat_minor": 4
}
