{
 "cells": [
  {
   "cell_type": "code",
   "execution_count": 1,
   "metadata": {},
   "outputs": [],
   "source": [
    "import pandas as pd\n",
    "import numpy as np\n",
    "import os"
   ]
  },
  {
   "cell_type": "code",
   "execution_count": 2,
   "metadata": {},
   "outputs": [],
   "source": [
    "sources = [\"bahamas_leaks\", \"offshore_leaks\", \"panama_papers\", \"paradise_papers\"]"
   ]
  },
  {
   "cell_type": "code",
   "execution_count": 3,
   "metadata": {},
   "outputs": [
    {
     "name": "stderr",
     "output_type": "stream",
     "text": [
      "/home/ananta/miniconda3/envs/513/lib/python3.7/site-packages/IPython/core/interactiveshell.py:3147: DtypeWarning: Columns (17) have mixed types.Specify dtype option on import or set low_memory=False.\n",
      "  interactivity=interactivity, compiler=compiler, result=result)\n",
      "/home/ananta/miniconda3/envs/513/lib/python3.7/site-packages/IPython/core/interactiveshell.py:3147: DtypeWarning: Columns (16) have mixed types.Specify dtype option on import or set low_memory=False.\n",
      "  interactivity=interactivity, compiler=compiler, result=result)\n",
      "/home/ananta/miniconda3/envs/513/lib/python3.7/site-packages/IPython/core/interactiveshell.py:3147: DtypeWarning: Columns (3,4) have mixed types.Specify dtype option on import or set low_memory=False.\n",
      "  interactivity=interactivity, compiler=compiler, result=result)\n",
      "/home/ananta/miniconda3/envs/513/lib/python3.7/site-packages/IPython/core/interactiveshell.py:3147: DtypeWarning: Columns (4,5,8,9,10,11,12,13,16) have mixed types.Specify dtype option on import or set low_memory=False.\n",
      "  interactivity=interactivity, compiler=compiler, result=result)\n",
      "/home/ananta/miniconda3/envs/513/lib/python3.7/site-packages/IPython/core/interactiveshell.py:3147: DtypeWarning: Columns (2,3,4,7) have mixed types.Specify dtype option on import or set low_memory=False.\n",
      "  interactivity=interactivity, compiler=compiler, result=result)\n"
     ]
    }
   ],
   "source": [
    "sources = [\"bahamas_leaks\", \"offshore_leaks\", \"panama_papers\", \"paradise_papers\"]\n",
    "\n",
    "filtered_adds = pd.DataFrame()\n",
    "filtered_ents = pd.DataFrame()\n",
    "filtered_peos = pd.DataFrame()\n",
    "unfiltered_adds = pd.DataFrame()\n",
    "unfiltered_ents = pd.DataFrame()\n",
    "unfiltered_peos = pd.DataFrame()\n",
    "df_dict = {}\n",
    "\n",
    "for source in sources:\n",
    "    source_add = pd.read_csv(os.path.join(\"data\", \"raw\", f\"{source}.nodes.address.csv\")).dropna(subset=[\"address\"])\n",
    "    source_add[\"url\"] = \"https://offshoreleaks.icij.org/search?utf8=%E2%9C%93&q=&c=\" + source_add[\"country_codes\"] + \"&j=&e=&commit=Search\"\n",
    "    source_ent = pd.read_csv(os.path.join(\"data\", \"raw\", f\"{source}.nodes.entity.csv\")).dropna(subset=[\"name\"])\n",
    "    source_ent[\"url\"] = \"https://offshoreleaks.icij.org/search?utf8=%E2%9C%93&q=&c=\" + source_ent[\"country_codes\"] + \"&j=&e=&commit=Search\"\n",
    "    source_int = pd.read_csv(os.path.join(\"data\", \"raw\", f\"{source}.nodes.intermediary.csv\")).dropna(subset=[\"name\"])\n",
    "    source_int[\"url\"] = \"https://offshoreleaks.icij.org/search?utf8=%E2%9C%93&q=&c=\" + source_int[\"country_codes\"] + \"&j=&e=&commit=Search\"\n",
    "    source_off = pd.read_csv(os.path.join(\"data\", \"raw\", f\"{source}.nodes.officer.csv\")).dropna(subset=[\"name\"])\n",
    "    source_off[\"url\"] = \"https://offshoreleaks.icij.org/search?utf8=%E2%9C%93&q=&c=\" + source_off[\"country_codes\"] + \"&j=&e=&commit=Search\"\n",
    "        \n",
    "    # addresses\n",
    "    filtered_add = source_add.query(\"'CAN' in country_codes\")[[\"address\", \"country_codes\", \"sourceID\", \"url\"]].rename(columns={\"address\" : \"name\"})\n",
    "    # corporate entities\n",
    "    filtered_ent = source_ent.query(\"'CAN' in country_codes\")[[\"name\", \"country_codes\", \"sourceID\", \"url\"]]\n",
    "    unfiltered_ent = source_ent[[\"name\", \"country_codes\", \"sourceID\", \"url\"]]\n",
    "    # intermediary can be entities or individuals\n",
    "    filtered_int = source_int.query(\"'CAN' in country_codes\")[[\"name\", \"country_codes\", \"sourceID\", \"url\"]]\n",
    "    unfiltered_int = source_int[[\"name\", \"country_codes\", \"sourceID\", \"url\"]]\n",
    "    # officers\n",
    "    filtered_off = source_off.query(\"'CAN' in country_codes\")[[\"name\", \"country_codes\", \"sourceID\", \"url\"]]\n",
    "    unfiltered_off = source_off[[\"name\", \"country_codes\", \"sourceID\", \"url\"]]\n",
    "    \n",
    "    df_dict[\"filtered_adds\"] = pd.concat([filtered_adds, filtered_add], axis=0)\n",
    "    df_dict[\"filtered_ents\"] = pd.concat([filtered_ents, filtered_ent, filtered_int], axis=0)\n",
    "    df_dict[\"filtered_peos\"] = pd.concat([filtered_peos, filtered_off, filtered_int], axis=0)\n",
    "    df_dict[\"unfiltered_ents\"] = pd.concat([unfiltered_ents, unfiltered_ent, unfiltered_int], axis=0)\n",
    "    df_dict[\"unfiltered_peos\"] = pd.concat([unfiltered_peos, unfiltered_off, unfiltered_int], axis=0)\n",
    "    \n",
    "    filtered = [\"filtered_adds\", \"filtered_ents\", \"filtered_peos\"]\n",
    "    unfiltered = [\"unfiltered_ents\", \"unfiltered_peos\"]\n",
    "\n",
    "    for d in filtered + unfiltered:\n",
    "        df_dict[d].to_pickle(os.path.join(\"data\", \"processed\", d+\".pickle\"))"
   ]
  },
  {
   "cell_type": "code",
   "execution_count": null,
   "metadata": {},
   "outputs": [],
   "source": []
  }
 ],
 "metadata": {
  "kernelspec": {
   "display_name": "Python [conda env:513]",
   "language": "python",
   "name": "conda-env-513-py"
  },
  "language_info": {
   "codemirror_mode": {
    "name": "ipython",
    "version": 3
   },
   "file_extension": ".py",
   "mimetype": "text/x-python",
   "name": "python",
   "nbconvert_exporter": "python",
   "pygments_lexer": "ipython3",
   "version": "3.7.8"
  }
 },
 "nbformat": 4,
 "nbformat_minor": 4
}
